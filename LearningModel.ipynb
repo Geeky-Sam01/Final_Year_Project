{
 "cells": [
  {
   "cell_type": "code",
   "execution_count": 7,
   "id": "badb91e6",
   "metadata": {},
   "outputs": [
    {
     "data": {
      "text/html": [
       "<div>\n",
       "<style scoped>\n",
       "    .dataframe tbody tr th:only-of-type {\n",
       "        vertical-align: middle;\n",
       "    }\n",
       "\n",
       "    .dataframe tbody tr th {\n",
       "        vertical-align: top;\n",
       "    }\n",
       "\n",
       "    .dataframe thead th {\n",
       "        text-align: right;\n",
       "    }\n",
       "</style>\n",
       "<table border=\"1\" class=\"dataframe\">\n",
       "  <thead>\n",
       "    <tr style=\"text-align: right;\">\n",
       "      <th></th>\n",
       "      <th>Accident Fields_Reference Number</th>\n",
       "      <th>Grid Ref: Easting</th>\n",
       "      <th>Grid Ref: Northing</th>\n",
       "      <th>Number of Vehicles</th>\n",
       "      <th>Accident Date</th>\n",
       "      <th>Time (24hr)</th>\n",
       "      <th>1st Road Class</th>\n",
       "      <th>1st Road Class &amp; No</th>\n",
       "      <th>Road Surface</th>\n",
       "      <th>Lighting Conditions</th>\n",
       "      <th>...</th>\n",
       "      <th>Local Authority</th>\n",
       "      <th>Vehicle Fields_Reference Number</th>\n",
       "      <th>Vehicle Number</th>\n",
       "      <th>Type of Vehicle</th>\n",
       "      <th>Casualty Fields_Reference Number</th>\n",
       "      <th>Casualty Veh No</th>\n",
       "      <th>Casualty Class</th>\n",
       "      <th>Casualty Severity</th>\n",
       "      <th>Sex of Casualty</th>\n",
       "      <th>Age of Casualty</th>\n",
       "    </tr>\n",
       "  </thead>\n",
       "  <tbody>\n",
       "    <tr>\n",
       "      <th>0</th>\n",
       "      <td>51B0230</td>\n",
       "      <td>433936</td>\n",
       "      <td>428874</td>\n",
       "      <td>1</td>\n",
       "      <td>11/01/2018</td>\n",
       "      <td>700</td>\n",
       "      <td>6</td>\n",
       "      <td>U</td>\n",
       "      <td>1</td>\n",
       "      <td>4</td>\n",
       "      <td>...</td>\n",
       "      <td>E08000035</td>\n",
       "      <td>51B0230</td>\n",
       "      <td>1</td>\n",
       "      <td>9</td>\n",
       "      <td>51B0230</td>\n",
       "      <td>1</td>\n",
       "      <td>3</td>\n",
       "      <td>3</td>\n",
       "      <td>2</td>\n",
       "      <td>87</td>\n",
       "    </tr>\n",
       "    <tr>\n",
       "      <th>1</th>\n",
       "      <td>51B0349</td>\n",
       "      <td>430076</td>\n",
       "      <td>433872</td>\n",
       "      <td>1</td>\n",
       "      <td>11/01/2018</td>\n",
       "      <td>855</td>\n",
       "      <td>6</td>\n",
       "      <td>U</td>\n",
       "      <td>2</td>\n",
       "      <td>1</td>\n",
       "      <td>...</td>\n",
       "      <td>E08000035</td>\n",
       "      <td>51B0349</td>\n",
       "      <td>1</td>\n",
       "      <td>11</td>\n",
       "      <td>51B0349</td>\n",
       "      <td>1</td>\n",
       "      <td>2</td>\n",
       "      <td>3</td>\n",
       "      <td>2</td>\n",
       "      <td>60</td>\n",
       "    </tr>\n",
       "    <tr>\n",
       "      <th>2</th>\n",
       "      <td>51B0349</td>\n",
       "      <td>430076</td>\n",
       "      <td>433872</td>\n",
       "      <td>1</td>\n",
       "      <td>11/01/2018</td>\n",
       "      <td>855</td>\n",
       "      <td>6</td>\n",
       "      <td>U</td>\n",
       "      <td>2</td>\n",
       "      <td>1</td>\n",
       "      <td>...</td>\n",
       "      <td>E08000035</td>\n",
       "      <td>51B0349</td>\n",
       "      <td>1</td>\n",
       "      <td>11</td>\n",
       "      <td>51B0349</td>\n",
       "      <td>1</td>\n",
       "      <td>2</td>\n",
       "      <td>3</td>\n",
       "      <td>2</td>\n",
       "      <td>51</td>\n",
       "    </tr>\n",
       "    <tr>\n",
       "      <th>3</th>\n",
       "      <td>51B0349</td>\n",
       "      <td>430076</td>\n",
       "      <td>433872</td>\n",
       "      <td>1</td>\n",
       "      <td>11/01/2018</td>\n",
       "      <td>855</td>\n",
       "      <td>6</td>\n",
       "      <td>U</td>\n",
       "      <td>2</td>\n",
       "      <td>1</td>\n",
       "      <td>...</td>\n",
       "      <td>E08000035</td>\n",
       "      <td>51B0349</td>\n",
       "      <td>1</td>\n",
       "      <td>11</td>\n",
       "      <td>51B0349</td>\n",
       "      <td>1</td>\n",
       "      <td>2</td>\n",
       "      <td>3</td>\n",
       "      <td>2</td>\n",
       "      <td>50</td>\n",
       "    </tr>\n",
       "    <tr>\n",
       "      <th>4</th>\n",
       "      <td>51B0349</td>\n",
       "      <td>430076</td>\n",
       "      <td>433872</td>\n",
       "      <td>1</td>\n",
       "      <td>11/01/2018</td>\n",
       "      <td>855</td>\n",
       "      <td>6</td>\n",
       "      <td>U</td>\n",
       "      <td>2</td>\n",
       "      <td>1</td>\n",
       "      <td>...</td>\n",
       "      <td>E08000035</td>\n",
       "      <td>51B0349</td>\n",
       "      <td>1</td>\n",
       "      <td>11</td>\n",
       "      <td>51B0349</td>\n",
       "      <td>1</td>\n",
       "      <td>2</td>\n",
       "      <td>3</td>\n",
       "      <td>2</td>\n",
       "      <td>51</td>\n",
       "    </tr>\n",
       "  </tbody>\n",
       "</table>\n",
       "<p>5 rows × 21 columns</p>\n",
       "</div>"
      ],
      "text/plain": [
       "  Accident Fields_Reference Number  Grid Ref: Easting  Grid Ref: Northing  \\\n",
       "0                          51B0230             433936              428874   \n",
       "1                          51B0349             430076              433872   \n",
       "2                          51B0349             430076              433872   \n",
       "3                          51B0349             430076              433872   \n",
       "4                          51B0349             430076              433872   \n",
       "\n",
       "   Number of Vehicles Accident Date  Time (24hr)  1st Road Class  \\\n",
       "0                   1    11/01/2018          700               6   \n",
       "1                   1    11/01/2018          855               6   \n",
       "2                   1    11/01/2018          855               6   \n",
       "3                   1    11/01/2018          855               6   \n",
       "4                   1    11/01/2018          855               6   \n",
       "\n",
       "  1st Road Class & No  Road Surface  Lighting Conditions  ...  \\\n",
       "0                   U             1                    4  ...   \n",
       "1                   U             2                    1  ...   \n",
       "2                   U             2                    1  ...   \n",
       "3                   U             2                    1  ...   \n",
       "4                   U             2                    1  ...   \n",
       "\n",
       "   Local Authority Vehicle Fields_Reference Number Vehicle Number  \\\n",
       "0        E08000035                         51B0230              1   \n",
       "1        E08000035                         51B0349              1   \n",
       "2        E08000035                         51B0349              1   \n",
       "3        E08000035                         51B0349              1   \n",
       "4        E08000035                         51B0349              1   \n",
       "\n",
       "   Type of Vehicle  Casualty Fields_Reference Number Casualty Veh No  \\\n",
       "0                9                           51B0230               1   \n",
       "1               11                           51B0349               1   \n",
       "2               11                           51B0349               1   \n",
       "3               11                           51B0349               1   \n",
       "4               11                           51B0349               1   \n",
       "\n",
       "   Casualty Class  Casualty Severity  Sex of Casualty  Age of Casualty  \n",
       "0               3                  3                2               87  \n",
       "1               2                  3                2               60  \n",
       "2               2                  3                2               51  \n",
       "3               2                  3                2               50  \n",
       "4               2                  3                2               51  \n",
       "\n",
       "[5 rows x 21 columns]"
      ]
     },
     "execution_count": 7,
     "metadata": {},
     "output_type": "execute_result"
    }
   ],
   "source": [
    "import numpy as np \n",
    "import pandas as pd\n",
    "import seaborn as sns\n",
    "data_set=pd.read_csv('Dataset.csv')\n",
    "\n",
    "data_set.head()"
   ]
  },
  {
   "cell_type": "code",
   "execution_count": 8,
   "id": "58ffeea2",
   "metadata": {},
   "outputs": [
    {
     "data": {
      "text/plain": [
       "Accident Fields_Reference Number    1548\n",
       "Grid Ref: Easting                   1432\n",
       "Grid Ref: Northing                  1422\n",
       "Number of Vehicles                     7\n",
       "Accident Date                        354\n",
       "Time (24hr)                          621\n",
       "1st Road Class                         6\n",
       "1st Road Class & No                   50\n",
       "Road Surface                           5\n",
       "Lighting Conditions                    5\n",
       "Weather Conditions                     8\n",
       "Local Authority                        1\n",
       "Vehicle Fields_Reference Number     1548\n",
       "Vehicle Number                         7\n",
       "Type of Vehicle                       16\n",
       "Casualty Fields_Reference Number    1548\n",
       "Casualty Veh No                        7\n",
       "Casualty Class                         3\n",
       "Casualty Severity                      3\n",
       "Sex of Casualty                        2\n",
       "Age of Casualty                       94\n",
       "dtype: int64"
      ]
     },
     "execution_count": 8,
     "metadata": {},
     "output_type": "execute_result"
    }
   ],
   "source": [
    "data_set.nunique()"
   ]
  },
  {
   "cell_type": "code",
   "execution_count": 22,
   "id": "03b7d8a6",
   "metadata": {},
   "outputs": [],
   "source": [
    "df=data_set.drop(['Accident Fields_Reference Number','Grid Ref: Easting','Grid Ref: Northing','Local Authority','Vehicle Fields_Reference Number','Vehicle Number','Casualty Fields_Reference Number','Casualty Veh No'],axis=1)"
   ]
  },
  {
   "cell_type": "code",
   "execution_count": 23,
   "id": "df944a0f",
   "metadata": {},
   "outputs": [
    {
     "data": {
      "text/html": [
       "<div>\n",
       "<style scoped>\n",
       "    .dataframe tbody tr th:only-of-type {\n",
       "        vertical-align: middle;\n",
       "    }\n",
       "\n",
       "    .dataframe tbody tr th {\n",
       "        vertical-align: top;\n",
       "    }\n",
       "\n",
       "    .dataframe thead th {\n",
       "        text-align: right;\n",
       "    }\n",
       "</style>\n",
       "<table border=\"1\" class=\"dataframe\">\n",
       "  <thead>\n",
       "    <tr style=\"text-align: right;\">\n",
       "      <th></th>\n",
       "      <th>Number of Vehicles</th>\n",
       "      <th>Accident Date</th>\n",
       "      <th>Time (24hr)</th>\n",
       "      <th>1st Road Class</th>\n",
       "      <th>1st Road Class &amp; No</th>\n",
       "      <th>Road Surface</th>\n",
       "      <th>Lighting Conditions</th>\n",
       "      <th>Weather Conditions</th>\n",
       "      <th>Type of Vehicle</th>\n",
       "      <th>Casualty Class</th>\n",
       "      <th>Casualty Severity</th>\n",
       "      <th>Sex of Casualty</th>\n",
       "      <th>Age of Casualty</th>\n",
       "    </tr>\n",
       "  </thead>\n",
       "  <tbody>\n",
       "    <tr>\n",
       "      <th>0</th>\n",
       "      <td>1</td>\n",
       "      <td>11/01/2018</td>\n",
       "      <td>700</td>\n",
       "      <td>6</td>\n",
       "      <td>U</td>\n",
       "      <td>1</td>\n",
       "      <td>4</td>\n",
       "      <td>1</td>\n",
       "      <td>9</td>\n",
       "      <td>3</td>\n",
       "      <td>3</td>\n",
       "      <td>2</td>\n",
       "      <td>87</td>\n",
       "    </tr>\n",
       "    <tr>\n",
       "      <th>1</th>\n",
       "      <td>1</td>\n",
       "      <td>11/01/2018</td>\n",
       "      <td>855</td>\n",
       "      <td>6</td>\n",
       "      <td>U</td>\n",
       "      <td>2</td>\n",
       "      <td>1</td>\n",
       "      <td>1</td>\n",
       "      <td>11</td>\n",
       "      <td>2</td>\n",
       "      <td>3</td>\n",
       "      <td>2</td>\n",
       "      <td>60</td>\n",
       "    </tr>\n",
       "    <tr>\n",
       "      <th>2</th>\n",
       "      <td>1</td>\n",
       "      <td>11/01/2018</td>\n",
       "      <td>855</td>\n",
       "      <td>6</td>\n",
       "      <td>U</td>\n",
       "      <td>2</td>\n",
       "      <td>1</td>\n",
       "      <td>1</td>\n",
       "      <td>11</td>\n",
       "      <td>2</td>\n",
       "      <td>3</td>\n",
       "      <td>2</td>\n",
       "      <td>51</td>\n",
       "    </tr>\n",
       "    <tr>\n",
       "      <th>3</th>\n",
       "      <td>1</td>\n",
       "      <td>11/01/2018</td>\n",
       "      <td>855</td>\n",
       "      <td>6</td>\n",
       "      <td>U</td>\n",
       "      <td>2</td>\n",
       "      <td>1</td>\n",
       "      <td>1</td>\n",
       "      <td>11</td>\n",
       "      <td>2</td>\n",
       "      <td>3</td>\n",
       "      <td>2</td>\n",
       "      <td>50</td>\n",
       "    </tr>\n",
       "    <tr>\n",
       "      <th>4</th>\n",
       "      <td>1</td>\n",
       "      <td>11/01/2018</td>\n",
       "      <td>855</td>\n",
       "      <td>6</td>\n",
       "      <td>U</td>\n",
       "      <td>2</td>\n",
       "      <td>1</td>\n",
       "      <td>1</td>\n",
       "      <td>11</td>\n",
       "      <td>2</td>\n",
       "      <td>3</td>\n",
       "      <td>2</td>\n",
       "      <td>51</td>\n",
       "    </tr>\n",
       "  </tbody>\n",
       "</table>\n",
       "</div>"
      ],
      "text/plain": [
       "   Number of Vehicles Accident Date  Time (24hr)  1st Road Class  \\\n",
       "0                   1    11/01/2018          700               6   \n",
       "1                   1    11/01/2018          855               6   \n",
       "2                   1    11/01/2018          855               6   \n",
       "3                   1    11/01/2018          855               6   \n",
       "4                   1    11/01/2018          855               6   \n",
       "\n",
       "  1st Road Class & No  Road Surface  Lighting Conditions  Weather Conditions  \\\n",
       "0                   U             1                    4                   1   \n",
       "1                   U             2                    1                   1   \n",
       "2                   U             2                    1                   1   \n",
       "3                   U             2                    1                   1   \n",
       "4                   U             2                    1                   1   \n",
       "\n",
       "   Type of Vehicle  Casualty Class  Casualty Severity  Sex of Casualty  \\\n",
       "0                9               3                  3                2   \n",
       "1               11               2                  3                2   \n",
       "2               11               2                  3                2   \n",
       "3               11               2                  3                2   \n",
       "4               11               2                  3                2   \n",
       "\n",
       "   Age of Casualty  \n",
       "0               87  \n",
       "1               60  \n",
       "2               51  \n",
       "3               50  \n",
       "4               51  "
      ]
     },
     "execution_count": 23,
     "metadata": {},
     "output_type": "execute_result"
    }
   ],
   "source": [
    "#df.head()"
   ]
  },
  {
   "cell_type": "code",
   "execution_count": 25,
   "id": "d9f3d814",
   "metadata": {},
   "outputs": [],
   "source": [
    "#removing / from dates\n",
    "df['Accident Date'] = df['Accident Date'].str.replace(\"/\", \"\")\n",
    "# Remove the last 4 digits\n",
    "df['Accident Date'] = df['Accident Date'].str[:4]\n",
    "# converting into int type\n",
    "df['Accident Date'] = pd.to_numeric(df['Accident Date'])"
   ]
  },
  {
   "cell_type": "markdown",
   "id": "0c23348c",
   "metadata": {},
   "source": [
    "# Exploratory Data Analysis\n",
    "\n",
    "## Univariate Data Analysis on Categorical Data\n",
    "### 1.Count Plot"
   ]
  },
  {
   "cell_type": "code",
   "execution_count": 33,
   "id": "ffedca0b",
   "metadata": {},
   "outputs": [
    {
     "data": {
      "text/plain": [
       "<AxesSubplot:xlabel='Sex of Casualty', ylabel='count'>"
      ]
     },
     "execution_count": 33,
     "metadata": {},
     "output_type": "execute_result"
    },
    {
     "data": {
      "image/png": "[encoded data removed]",
      "text/plain": [
       "<Figure size 432x288 with 1 Axes>"
      ]
     },
     "metadata": {
      "needs_background": "light"
     },
     "output_type": "display_data"
    }
   ],
   "source": [
    "sns.countplot(x=df['Sex of Casualty'])\n",
    "# 1 male \n",
    "#2 female\n"
   ]
  },
  {
   "cell_type": "code",
   "execution_count": 34,
   "id": "31112b7a",
   "metadata": {},
   "outputs": [
    {
     "data": {
      "text/plain": [
       "<AxesSubplot:xlabel='Casualty Class', ylabel='count'>"
      ]
     },
     "execution_count": 34,
     "metadata": {},
     "output_type": "execute_result"
    },
    {
     "data": {
      "image/png": "[encoded data removed]",
      "text/plain": [
       "<Figure size 432x288 with 1 Axes>"
      ]
     },
     "metadata": {
      "needs_background": "light"
     },
     "output_type": "display_data"
    }
   ],
   "source": [
    "sns.countplot(x=df['Casualty Class'])\n",
    "# 1 Driver\n",
    "# 2 Passenger\n",
    "# 3 Pedestrian"
   ]
  },
  {
   "cell_type": "code",
   "execution_count": 35,
   "id": "528a1026",
   "metadata": {},
   "outputs": [
    {
     "data": {
      "text/plain": [
       "<AxesSubplot:xlabel='Casualty Severity', ylabel='count'>"
      ]
     },
     "execution_count": 35,
     "metadata": {},
     "output_type": "execute_result"
    },
    {
     "data": {
      "image/png": "[encoded data removed]",
      "text/plain": [
       "<Figure size 432x288 with 1 Axes>"
      ]
     },
     "metadata": {
      "needs_background": "light"
     },
     "output_type": "display_data"
    }
   ],
   "source": [
    "sns.countplot(x=df['Casualty Severity'])\n",
    "#1 Fatal\n",
    "#2 Serious\n",
    "#3 Slight"
   ]
  },
  {
   "cell_type": "markdown",
   "id": "e8aa53fa",
   "metadata": {},
   "source": [
    "## 2.Pie chart"
   ]
  },
  {
   "cell_type": "code",
   "execution_count": 36,
   "id": "4b44cfd8",
   "metadata": {},
   "outputs": [
    {
     "data": {
      "text/plain": [
       "<AxesSubplot:ylabel='Sex of Casualty'>"
      ]
     },
     "execution_count": 36,
     "metadata": {},
     "output_type": "execute_result"
    },
    {
     "data": {
      "image/png": "[encoded data removed]",
      "text/plain": [
       "<Figure size 432x288 with 1 Axes>"
      ]
     },
     "metadata": {},
     "output_type": "display_data"
    }
   ],
   "source": [
    "df['Sex of Casualty'].value_counts().plot(kind='pie',autopct ='%0.2f')\n",
    "# 1 Male\n",
    "# 2 Female"
   ]
  },
  {
   "cell_type": "code",
   "execution_count": null,
   "id": "75298b35",
   "metadata": {},
   "outputs": [],
   "source": [
    "# create a plot"
   ]
  },
  {
   "cell_type": "code",
   "execution_count": null,
   "id": "4d4f608a",
   "metadata": {},
   "outputs": [],
   "source": []
  }
 ],
 "metadata": {
  "kernelspec": {
   "display_name": "Python 3 (ipykernel)",
   "language": "python",
   "name": "python3"
  },
  "language_info": {
   "codemirror_mode": {
    "name": "ipython",
    "version": 3
   },
   "file_extension": ".py",
   "mimetype": "text/x-python",
   "name": "python",
   "nbconvert_exporter": "python",
   "pygments_lexer": "ipython3",
   "version": "3.9.12"
  }
 },
 "nbformat": 4,
 "nbformat_minor": 5
}
